{
 "cells": [
  {
   "cell_type": "code",
   "execution_count": null,
   "source": [
    "# This Python 3 environment comes with many helpful analytics libraries installed\n",
    "# It is defined by the kaggle/python Docker image: https://github.com/kaggle/docker-python\n",
    "# For example, here's several helpful packages to load\n",
    "\n",
    "import numpy as np # linear algebra\n",
    "import pandas as pd # data processing, CSV file I/O (e.g. pd.read_csv)\n",
    "\n",
    "# Input data files are available in the read-only \"../input/\" directory\n",
    "# For example, running this (by clicking run or pressing Shift+Enter) will list all files under the input directory\n",
    "\n",
    "import os\n",
    "# for dirname, _, filenames in os.walk('/kaggle/input'):\n",
    "#     for filename in filenames:\n",
    "#         print(os.path.join(dirname, filename))\n",
    "\n",
    "# You can write up to 20GB to the current directory (/kaggle/working/) that gets preserved as output when you create a version using \"Save & Run All\" \n",
    "# You can also write temporary files to /kaggle/temp/, but they won't be saved outside of the current session"
   ],
   "outputs": [],
   "metadata": {
    "_cell_guid": "b1076dfc-b9ad-4769-8c92-a6c4dae69d19",
    "_uuid": "8f2839f25d086af736a60e9eeb907d3b93b6e0e5",
    "execution": {
     "iopub.execute_input": "2021-07-12T20:07:11.927597Z",
     "iopub.status.busy": "2021-07-12T20:07:11.923296Z",
     "iopub.status.idle": "2021-07-12T20:07:11.931248Z",
     "shell.execute_reply": "2021-07-12T20:07:11.930445Z"
    },
    "papermill": {
     "duration": 0.038093,
     "end_time": "2021-07-12T20:07:11.931422",
     "exception": false,
     "start_time": "2021-07-12T20:07:11.893329",
     "status": "completed"
    },
    "tags": []
   }
  },
  {
   "cell_type": "code",
   "execution_count": null,
   "source": [
    "import os\n",
    "\n",
    "import pandas as pd\n",
    "import numpy as np\n",
    "import warnings\n",
    "warnings.filterwarnings(action=\"ignore\")\n",
    "import matplotlib.pyplot as plt\n",
    "%matplotlib inline\n",
    "import seaborn as sns\n",
    "from sklearn.preprocessing import StandardScaler \n",
    "from sklearn.model_selection import train_test_split \n",
    "from sklearn.metrics import classification_report\n",
    "#tensorflow libraries\n",
    "import tensorflow as tf\n",
    "from tensorflow import keras\n",
    "from tensorflow.keras.models import Sequential\n",
    "from tensorflow.keras.layers import MaxPooling2D, Dense, Dropout,Flatten, Conv2D\n",
    "from tensorflow.keras.optimizers import Adam\n",
    "from tensorflow.keras.losses import SparseCategoricalCrossentropy\n",
    "from keras.preprocessing.image import ImageDataGenerator\n",
    "from tensorflow.keras.callbacks import TensorBoard,EarlyStopping "
   ],
   "outputs": [],
   "metadata": {
    "execution": {
     "iopub.execute_input": "2021-07-12T20:07:11.985319Z",
     "iopub.status.busy": "2021-07-12T20:07:11.984412Z",
     "iopub.status.idle": "2021-07-12T20:07:19.484531Z",
     "shell.execute_reply": "2021-07-12T20:07:19.483736Z",
     "shell.execute_reply.started": "2021-07-09T14:52:05.407957Z"
    },
    "papermill": {
     "duration": 7.532605,
     "end_time": "2021-07-12T20:07:19.484681",
     "exception": false,
     "start_time": "2021-07-12T20:07:11.952076",
     "status": "completed"
    },
    "tags": []
   }
  },
  {
   "cell_type": "code",
   "execution_count": null,
   "source": [
    "with_mask_dir=r'../dataset/with_mask'\n",
    "without_mask_dir=r'../dataset/without_mask'\n",
    "filepaths = []\n",
    "labels= []\n",
    "dict_list = [with_mask_dir, without_mask_dir]\n",
    "for i, j in enumerate(dict_list):\n",
    "    flist=os.listdir(j)\n",
    "    for f in flist:\n",
    "        fpath=os.path.join(j,f)\n",
    "        filepaths.append(fpath)\n",
    "        if i==0:\n",
    "          labels.append('with_mask')\n",
    "        else:\n",
    "          labels.append('without_mask') \n",
    "    \n",
    "Fseries = pd.Series(filepaths, name=\"filepaths\")\n",
    "Lseries = pd.Series(labels, name=\"labels\")\n",
    "mask_data = pd.concat([Fseries,Lseries], axis=1)\n",
    "mask_df = pd.DataFrame(mask_data)\n",
    "print(mask_df.head())\n",
    "print(mask_df[\"labels\"].value_counts())"
   ],
   "outputs": [],
   "metadata": {
    "execution": {
     "iopub.execute_input": "2021-07-12T20:07:19.532649Z",
     "iopub.status.busy": "2021-07-12T20:07:19.531863Z",
     "iopub.status.idle": "2021-07-12T20:07:20.343183Z",
     "shell.execute_reply": "2021-07-12T20:07:20.343652Z",
     "shell.execute_reply.started": "2021-07-09T14:53:23.252676Z"
    },
    "papermill": {
     "duration": 0.839371,
     "end_time": "2021-07-12T20:07:20.343833",
     "exception": false,
     "start_time": "2021-07-12T20:07:19.504462",
     "status": "completed"
    },
    "tags": []
   }
  },
  {
   "cell_type": "code",
   "execution_count": null,
   "source": [
    "#shape of datatset\n",
    "mask_df.shape"
   ],
   "outputs": [],
   "metadata": {
    "execution": {
     "iopub.execute_input": "2021-07-12T20:07:20.387059Z",
     "iopub.status.busy": "2021-07-12T20:07:20.386384Z",
     "iopub.status.idle": "2021-07-12T20:07:20.393443Z",
     "shell.execute_reply": "2021-07-12T20:07:20.394064Z",
     "shell.execute_reply.started": "2021-07-09T14:53:27.082428Z"
    },
    "papermill": {
     "duration": 0.030217,
     "end_time": "2021-07-12T20:07:20.394238",
     "exception": false,
     "start_time": "2021-07-12T20:07:20.364021",
     "status": "completed"
    },
    "tags": []
   }
  },
  {
   "cell_type": "code",
   "execution_count": null,
   "source": [
    "train_set, test_images = train_test_split(mask_df, test_size=0.3, random_state=42)\n",
    "test_set, val_set = train_test_split(test_images, test_size=0.2, random_state=42)"
   ],
   "outputs": [],
   "metadata": {
    "execution": {
     "iopub.execute_input": "2021-07-12T20:07:20.438557Z",
     "iopub.status.busy": "2021-07-12T20:07:20.437854Z",
     "iopub.status.idle": "2021-07-12T20:07:20.445923Z",
     "shell.execute_reply": "2021-07-12T20:07:20.446467Z",
     "shell.execute_reply.started": "2021-07-09T14:53:29.541275Z"
    },
    "papermill": {
     "duration": 0.032333,
     "end_time": "2021-07-12T20:07:20.446643",
     "exception": false,
     "start_time": "2021-07-12T20:07:20.414310",
     "status": "completed"
    },
    "tags": []
   }
  },
  {
   "cell_type": "code",
   "execution_count": null,
   "source": [
    "#Generate batches of tensor image data with real-time data augmentation.\n",
    "image_gen = ImageDataGenerator(preprocessing_function= tf.keras.applications.mobilenet_v2.preprocess_input)\n",
    "\n",
    "train = image_gen.flow_from_dataframe(dataframe= train_set,x_col=\"filepaths\",y_col=\"labels\",\n",
    "                                      target_size=(244,244),\n",
    "                                      color_mode='grayscale',\n",
    "                                      class_mode=\"categorical\", #used for Sequential Model\n",
    "                                      batch_size=32,\n",
    "                                      shuffle=False            #do not shuffle data\n",
    "                                     )\n",
    "\n",
    "test = image_gen.flow_from_dataframe(dataframe= test_set,x_col=\"filepaths\", y_col=\"labels\",\n",
    "                                     target_size=(244,244),\n",
    "                                     color_mode='grayscale',\n",
    "                                     class_mode=\"categorical\",\n",
    "                                     batch_size=32,\n",
    "                                     shuffle= False\n",
    "                                    )\n",
    "\n",
    "val = image_gen.flow_from_dataframe(dataframe= val_set,x_col=\"filepaths\", y_col=\"labels\",\n",
    "                                    target_size=(244,244),\n",
    "                                    color_mode= 'grayscale',\n",
    "                                    class_mode=\"categorical\",\n",
    "                                    batch_size=32,\n",
    "                                    shuffle=False\n",
    "                                   )"
   ],
   "outputs": [],
   "metadata": {
    "execution": {
     "iopub.execute_input": "2021-07-12T20:07:20.490734Z",
     "iopub.status.busy": "2021-07-12T20:07:20.489945Z",
     "iopub.status.idle": "2021-07-12T20:07:33.996465Z",
     "shell.execute_reply": "2021-07-12T20:07:33.997163Z",
     "shell.execute_reply.started": "2021-07-09T14:53:32.871776Z"
    },
    "papermill": {
     "duration": 13.530551,
     "end_time": "2021-07-12T20:07:33.997343",
     "exception": false,
     "start_time": "2021-07-12T20:07:20.466792",
     "status": "completed"
    },
    "tags": []
   }
  },
  {
   "cell_type": "code",
   "execution_count": null,
   "source": [
    "classes=list(train.class_indices.keys())\n",
    "print (classes)"
   ],
   "outputs": [],
   "metadata": {
    "execution": {
     "iopub.execute_input": "2021-07-12T20:07:34.044095Z",
     "iopub.status.busy": "2021-07-12T20:07:34.043341Z",
     "iopub.status.idle": "2021-07-12T20:07:34.050048Z",
     "shell.execute_reply": "2021-07-12T20:07:34.049469Z",
     "shell.execute_reply.started": "2021-07-09T14:53:51.511728Z"
    },
    "papermill": {
     "duration": 0.031113,
     "end_time": "2021-07-12T20:07:34.050193",
     "exception": false,
     "start_time": "2021-07-12T20:07:34.019080",
     "status": "completed"
    },
    "tags": []
   }
  },
  {
   "cell_type": "code",
   "execution_count": null,
   "source": [
    "def show_images(image_gen):\n",
    "    test_dict = test.class_indices\n",
    "    classes = list(test_dict.keys())\n",
    "    images, labels=next(image_gen) # get a sample batch from the generator \n",
    "    plt.figure(figsize=(20,20))\n",
    "    length = len(labels)\n",
    "    if length<25:\n",
    "        r=length\n",
    "    else:\n",
    "        r=25\n",
    "    for i in range(r):\n",
    "        plt.subplot(5,5,i+1)\n",
    "        image=(images[i]+1)/2 #scale images between 0 and 1\n",
    "        plt.imshow(image)\n",
    "        index=np.argmax(labels[i])\n",
    "        class_name=classes[index]\n",
    "        plt.title(class_name, color=\"green\",fontsize=16)\n",
    "        plt.axis('off')\n",
    "    plt.show()"
   ],
   "outputs": [],
   "metadata": {
    "execution": {
     "iopub.execute_input": "2021-07-12T20:07:34.103317Z",
     "iopub.status.busy": "2021-07-12T20:07:34.102512Z",
     "iopub.status.idle": "2021-07-12T20:07:34.105702Z",
     "shell.execute_reply": "2021-07-12T20:07:34.105173Z",
     "shell.execute_reply.started": "2021-07-09T14:53:53.848966Z"
    },
    "papermill": {
     "duration": 0.033375,
     "end_time": "2021-07-12T20:07:34.105857",
     "exception": false,
     "start_time": "2021-07-12T20:07:34.072482",
     "status": "completed"
    },
    "tags": []
   }
  },
  {
   "cell_type": "code",
   "execution_count": null,
   "source": [
    "show_images(train)"
   ],
   "outputs": [],
   "metadata": {
    "execution": {
     "iopub.execute_input": "2021-07-12T20:07:34.157672Z",
     "iopub.status.busy": "2021-07-12T20:07:34.156987Z",
     "iopub.status.idle": "2021-07-12T20:07:36.611669Z",
     "shell.execute_reply": "2021-07-12T20:07:36.612191Z",
     "shell.execute_reply.started": "2021-07-09T14:53:57.924306Z"
    },
    "papermill": {
     "duration": 2.483298,
     "end_time": "2021-07-12T20:07:36.612365",
     "exception": false,
     "start_time": "2021-07-12T20:07:34.129067",
     "status": "completed"
    },
    "tags": []
   }
  },
  {
   "cell_type": "code",
   "execution_count": null,
   "source": [
    "def plot_loss_and_accuracy(history):\n",
    "    history_df = pd.DataFrame(history)\n",
    "    history_df.loc[0:, ['loss', 'val_loss']].plot()\n",
    "    history_df.loc[0:, ['accuracy', 'val_accuracy']].plot()"
   ],
   "outputs": [],
   "metadata": {
    "execution": {
     "iopub.execute_input": "2021-07-12T20:07:36.738812Z",
     "iopub.status.busy": "2021-07-12T20:07:36.738117Z",
     "iopub.status.idle": "2021-07-12T20:07:36.741490Z",
     "shell.execute_reply": "2021-07-12T20:07:36.740958Z",
     "shell.execute_reply.started": "2021-07-09T14:54:25.510234Z"
    },
    "papermill": {
     "duration": 0.069069,
     "end_time": "2021-07-12T20:07:36.741654",
     "exception": false,
     "start_time": "2021-07-12T20:07:36.672585",
     "status": "completed"
    },
    "tags": []
   }
  },
  {
   "cell_type": "markdown",
   "source": [
    "# Model #1"
   ],
   "metadata": {
    "papermill": {
     "duration": 0.059134,
     "end_time": "2021-07-12T20:07:36.861221",
     "exception": false,
     "start_time": "2021-07-12T20:07:36.802087",
     "status": "completed"
    },
    "tags": []
   }
  },
  {
   "cell_type": "code",
   "execution_count": null,
   "source": [
    "import keras\n",
    "from tensorflow.keras import layers\n",
    "\n",
    "CNN_2 = keras.Sequential([\n",
    "    layers.Conv2D(32, kernel_size=(3,3), activation='relu', padding='same', input_shape=(244,244,1)),\n",
    "    layers.MaxPooling2D(pool_size=(2, 2)),\n",
    "    \n",
    "    layers.Conv2D(64, kernel_size=(3,3), activation='relu'),\n",
    "    layers.MaxPooling2D(pool_size=(2, 2)),\n",
    "    \n",
    "    layers.Conv2D(32, kernel_size=(3,3), activation='relu'),\n",
    "    layers.MaxPooling2D(pool_size=(2, 2)),\n",
    "    layers.Dropout(0.25),\n",
    "    \n",
    "    layers.Flatten(),\n",
    "    layers.Dense(64, activation=\"relu\"),\n",
    "    layers.Dropout(0.5),\n",
    "    layers.Dense(2, activation='softmax')\n",
    "])\n",
    "\n",
    "CNN_2.compile(\n",
    "    optimizer='adam',\n",
    "    loss='categorical_crossentropy',\n",
    "    metrics=['accuracy']\n",
    ")\n",
    "CNN_2.optimizer.lr=0.001\n",
    "history_CNN = CNN_2.fit(train, validation_data= val, epochs=10,verbose=1)\n",
    "\n",
    "CNN_2.summary()"
   ],
   "outputs": [],
   "metadata": {
    "execution": {
     "iopub.execute_input": "2021-07-12T20:07:36.991726Z",
     "iopub.status.busy": "2021-07-12T20:07:36.991011Z",
     "iopub.status.idle": "2021-07-12T20:07:37.167691Z",
     "shell.execute_reply": "2021-07-12T20:07:37.166991Z",
     "shell.execute_reply.started": "2021-07-08T20:14:16.102904Z"
    },
    "papermill": {
     "duration": 0.246623,
     "end_time": "2021-07-12T20:07:37.167831",
     "exception": false,
     "start_time": "2021-07-12T20:07:36.921208",
     "status": "completed"
    },
    "tags": []
   }
  },
  {
   "cell_type": "code",
   "execution_count": 1,
   "source": [
    "#resuts from model 1\n",
    "plot_loss_and_accuracy(history_CNN.history)"
   ],
   "outputs": [
    {
     "output_type": "error",
     "ename": "NameError",
     "evalue": "name 'plot_loss_and_accuracy' is not defined",
     "traceback": [
      "\u001b[0;31m---------------------------------------------------------------------------\u001b[0m",
      "\u001b[0;31mNameError\u001b[0m                                 Traceback (most recent call last)",
      "\u001b[0;32m/tmp/ipykernel_3177/3240272574.py\u001b[0m in \u001b[0;36m<module>\u001b[0;34m\u001b[0m\n\u001b[1;32m      1\u001b[0m \u001b[0;31m#resuts from model 1\u001b[0m\u001b[0;34m\u001b[0m\u001b[0;34m\u001b[0m\u001b[0;34m\u001b[0m\u001b[0m\n\u001b[0;32m----> 2\u001b[0;31m \u001b[0mplot_loss_and_accuracy\u001b[0m\u001b[0;34m(\u001b[0m\u001b[0mhistory_CNN\u001b[0m\u001b[0;34m.\u001b[0m\u001b[0mhistory\u001b[0m\u001b[0;34m)\u001b[0m\u001b[0;34m\u001b[0m\u001b[0;34m\u001b[0m\u001b[0m\n\u001b[0m",
      "\u001b[0;31mNameError\u001b[0m: name 'plot_loss_and_accuracy' is not defined"
     ]
    }
   ],
   "metadata": {
    "execution": {
     "iopub.execute_input": "2021-07-12T21:18:28.904255Z",
     "iopub.status.busy": "2021-07-12T21:18:28.903396Z",
     "iopub.status.idle": "2021-07-12T21:18:29.327746Z",
     "shell.execute_reply": "2021-07-12T21:18:29.327080Z"
    },
    "papermill": {
     "duration": 1.268095,
     "end_time": "2021-07-12T21:18:29.327909",
     "exception": false,
     "start_time": "2021-07-12T21:18:28.059814",
     "status": "completed"
    },
    "tags": []
   }
  },
  {
   "cell_type": "markdown",
   "source": [
    "The above charts show the accuracy and loss for the training set and test set. In the loss chart we see the test set in orange stabilize much faster than the training loss. This same behavior is seen in the accuracy chart. This shows there exists some overfitting in the model. Next, I will adjust the parameters in the second model to overcome the overfitting."
   ],
   "metadata": {
    "papermill": {
     "duration": 0.845662,
     "end_time": "2021-07-12T21:18:31.030831",
     "exception": false,
     "start_time": "2021-07-12T21:18:30.185169",
     "status": "completed"
    },
    "tags": []
   }
  },
  {
   "cell_type": "code",
   "execution_count": null,
   "source": [
    "pred = CNN_2.predict(test)\n",
    "pred = np.argmax(pred, axis=1) #pick class with highest  probability\n",
    "\n",
    "labels = (train.class_indices)\n",
    "labels = dict((v,k) for k,v in labels.items())\n",
    "pred2 = [labels[k] for k in pred]\n",
    "\n",
    "y_test = test_set.labels # set y_test to the expected output\n",
    "print(classification_report(y_test, pred2))"
   ],
   "outputs": [],
   "metadata": {
    "execution": {
     "iopub.execute_input": "2021-07-12T21:18:32.720756Z",
     "iopub.status.busy": "2021-07-12T21:18:32.719861Z",
     "iopub.status.idle": "2021-07-12T21:19:04.526014Z",
     "shell.execute_reply": "2021-07-12T21:19:04.526543Z"
    },
    "papermill": {
     "duration": 32.658883,
     "end_time": "2021-07-12T21:19:04.526721",
     "exception": false,
     "start_time": "2021-07-12T21:18:31.867838",
     "status": "completed"
    },
    "tags": []
   }
  },
  {
   "cell_type": "markdown",
   "source": [
    "# Model #2"
   ],
   "metadata": {
    "papermill": {
     "duration": 0.834965,
     "end_time": "2021-07-12T21:19:06.199761",
     "exception": false,
     "start_time": "2021-07-12T21:19:05.364796",
     "status": "completed"
    },
    "tags": []
   }
  },
  {
   "cell_type": "code",
   "execution_count": null,
   "source": [
    "from tensorflow.keras import layers\n",
    "\n",
    "MyCnn = tf.keras.models.Sequential([\n",
    "  layers.Conv2D(32, 3, activation='relu',input_shape=(244,244,1)),\n",
    "  layers.MaxPooling2D(),\n",
    "    \n",
    "  layers.Conv2D(64, 3, activation='relu'),\n",
    "  layers.MaxPooling2D(),\n",
    "    \n",
    "  layers.Conv2D(128, 3, activation='relu'),\n",
    "  layers.MaxPooling2D(),\n",
    "\n",
    "  layers.GlobalAveragePooling2D(),\n",
    "  layers.Dense(256, activation='relu'),\n",
    "  layers.Dense(2, activation= 'softmax')\n",
    "])\n",
    "\n",
    "MyCnn.compile(\n",
    "    optimizer='adam',\n",
    "    loss='categorical_crossentropy',\n",
    "    metrics=['accuracy']\n",
    ")\n",
    "\n",
    "MyCnn.summary()"
   ],
   "outputs": [],
   "metadata": {
    "execution": {
     "iopub.execute_input": "2021-07-12T21:19:07.911402Z",
     "iopub.status.busy": "2021-07-12T21:19:07.910678Z",
     "iopub.status.idle": "2021-07-12T21:19:07.995603Z",
     "shell.execute_reply": "2021-07-12T21:19:07.994999Z",
     "shell.execute_reply.started": "2021-07-09T14:55:16.754976Z"
    },
    "papermill": {
     "duration": 0.965778,
     "end_time": "2021-07-12T21:19:07.995786",
     "exception": false,
     "start_time": "2021-07-12T21:19:07.030008",
     "status": "completed"
    },
    "tags": []
   }
  },
  {
   "cell_type": "code",
   "execution_count": null,
   "source": [
    "history_my_CNN = MyCnn.fit(train, validation_data= val, epochs=10,verbose=1)"
   ],
   "outputs": [],
   "metadata": {
    "execution": {
     "iopub.execute_input": "2021-07-12T21:19:09.695781Z",
     "iopub.status.busy": "2021-07-12T21:19:09.695081Z",
     "iopub.status.idle": "2021-07-12T22:41:59.460430Z",
     "shell.execute_reply": "2021-07-12T22:41:59.459765Z",
     "shell.execute_reply.started": "2021-07-09T14:56:43.768648Z"
    },
    "papermill": {
     "duration": 4970.618313,
     "end_time": "2021-07-12T22:41:59.460624",
     "exception": false,
     "start_time": "2021-07-12T21:19:08.842311",
     "status": "completed"
    },
    "tags": []
   }
  },
  {
   "cell_type": "code",
   "execution_count": null,
   "source": [
    "plot_loss_and_accuracy(history_my_CNN.history)"
   ],
   "outputs": [],
   "metadata": {
    "execution": {
     "iopub.execute_input": "2021-07-12T22:42:02.681104Z",
     "iopub.status.busy": "2021-07-12T22:42:02.680415Z",
     "iopub.status.idle": "2021-07-12T22:42:03.019692Z",
     "shell.execute_reply": "2021-07-12T22:42:03.020226Z",
     "shell.execute_reply.started": "2021-07-09T16:42:52.24374Z"
    },
    "papermill": {
     "duration": 1.970491,
     "end_time": "2021-07-12T22:42:03.020424",
     "exception": false,
     "start_time": "2021-07-12T22:42:01.049933",
     "status": "completed"
    },
    "tags": []
   }
  },
  {
   "cell_type": "markdown",
   "source": [
    "The above charts show the accuracy and loss for the training set and test set for the second model. In the loss chart we see the test set in orange stabilizes at about the same rate as the training loss in blue. Although we have overcome overfitting, the accuracy of this model#2 is similar to model#1. The similarities can also seen in the confusion matricies below."
   ],
   "metadata": {
    "papermill": {
     "duration": 1.625701,
     "end_time": "2021-07-12T22:42:06.246713",
     "exception": false,
     "start_time": "2021-07-12T22:42:04.621012",
     "status": "completed"
    },
    "tags": []
   }
  },
  {
   "cell_type": "code",
   "execution_count": null,
   "source": [
    "# save the model with name face-mask-image-classification-with-keras\n",
    "MyCnn.save('face-mask-image-classification-with-keras.h5')"
   ],
   "outputs": [],
   "metadata": {}
  },
  {
   "cell_type": "markdown",
   "source": [
    "# Confustion Matrix"
   ],
   "metadata": {
    "papermill": {
     "duration": 1.65902,
     "end_time": "2021-07-12T22:42:10.273103",
     "exception": false,
     "start_time": "2021-07-12T22:42:08.614083",
     "status": "completed"
    },
    "tags": []
   }
  },
  {
   "cell_type": "code",
   "execution_count": null,
   "source": [
    "pred_mod2 = MyCnn.predict(test)\n",
    "pred_mod2 = np.argmax(pred_mod2, axis=1) #pick class with highest  probability\n",
    "\n",
    "labels = (train.class_indices)\n",
    "labels = dict((v,k) for k,v in labels.items())\n",
    "pred2_mod2 = [labels[k] for k in pred_mod2]\n",
    "\n",
    "y_test = test_set.labels # set y_test to the expected output\n",
    "print(classification_report(y_test, pred2_mod2))"
   ],
   "outputs": [],
   "metadata": {
    "execution": {
     "iopub.execute_input": "2021-07-12T22:42:13.496728Z",
     "iopub.status.busy": "2021-07-12T22:42:13.496069Z",
     "iopub.status.idle": "2021-07-12T22:42:49.368654Z",
     "shell.execute_reply": "2021-07-12T22:42:49.369251Z",
     "shell.execute_reply.started": "2021-07-09T16:49:04.138445Z"
    },
    "papermill": {
     "duration": 37.473561,
     "end_time": "2021-07-12T22:42:49.369442",
     "exception": false,
     "start_time": "2021-07-12T22:42:11.895881",
     "status": "completed"
    },
    "tags": []
   }
  },
  {
   "cell_type": "code",
   "execution_count": null,
   "source": [
    "# model 1\n",
    "from sklearn.metrics import confusion_matrix, accuracy_score\n",
    "plt.figure(figsize = (10,5))\n",
    "cm = confusion_matrix(y_test, pred2)\n",
    "sns.heatmap(cm, annot=True, fmt = 'g')"
   ],
   "outputs": [],
   "metadata": {
    "execution": {
     "iopub.execute_input": "2021-07-12T22:42:52.696623Z",
     "iopub.status.busy": "2021-07-12T22:42:52.695956Z",
     "iopub.status.idle": "2021-07-12T22:42:52.954482Z",
     "shell.execute_reply": "2021-07-12T22:42:52.955037Z",
     "shell.execute_reply.started": "2021-07-07T19:43:27.081814Z"
    },
    "papermill": {
     "duration": 1.936397,
     "end_time": "2021-07-12T22:42:52.955256",
     "exception": false,
     "start_time": "2021-07-12T22:42:51.018859",
     "status": "completed"
    },
    "tags": []
   }
  },
  {
   "cell_type": "code",
   "execution_count": null,
   "source": [
    "# model 2\n",
    "from sklearn.metrics import confusion_matrix, accuracy_score\n",
    "plt.figure(figsize = (10,5))\n",
    "cm = confusion_matrix(y_test, pred2_mod2)\n",
    "sns.heatmap(cm, annot=True, fmt = 'g')"
   ],
   "outputs": [],
   "metadata": {
    "execution": {
     "iopub.execute_input": "2021-07-12T22:42:56.229319Z",
     "iopub.status.busy": "2021-07-12T22:42:56.228637Z",
     "iopub.status.idle": "2021-07-12T22:42:56.487968Z",
     "shell.execute_reply": "2021-07-12T22:42:56.488617Z",
     "shell.execute_reply.started": "2021-07-09T16:52:31.981562Z"
    },
    "papermill": {
     "duration": 1.880856,
     "end_time": "2021-07-12T22:42:56.488811",
     "exception": false,
     "start_time": "2021-07-12T22:42:54.607955",
     "status": "completed"
    },
    "tags": []
   }
  },
  {
   "cell_type": "markdown",
   "source": [
    "A special thanks to the following notebooks:\n",
    "\n",
    "* [Brain Tumor Classification- 98.4% Accuracy](https://www.kaggle.com/purvitsharma/brain-tumor-classification-98-4-accuracy) - [Purvit Vashishtha](https://www.kaggle.com/purvitsharma)\n",
    "* [CnnForMaskDetection(Improved:Size and Performance)](https://www.kaggle.com/vanvalkenberg/cnnformaskdetection-improved-size-and-performance) - [Ritwek Khosla](https://www.kaggle.com/vanvalkenberg)"
   ],
   "metadata": {
    "papermill": {
     "duration": 1.618483,
     "end_time": "2021-07-12T22:42:59.703333",
     "exception": false,
     "start_time": "2021-07-12T22:42:58.084850",
     "status": "completed"
    },
    "tags": []
   }
  }
 ],
 "metadata": {
  "kernelspec": {
   "name": "python3",
   "display_name": "Python 3.8.10 64-bit"
  },
  "language_info": {
   "codemirror_mode": {
    "name": "ipython",
    "version": 3
   },
   "file_extension": ".py",
   "mimetype": "text/x-python",
   "name": "python",
   "nbconvert_exporter": "python",
   "pygments_lexer": "ipython3",
   "version": "3.8.10"
  },
  "papermill": {
   "default_parameters": {},
   "duration": 9360.881323,
   "end_time": "2021-07-12T22:43:03.656858",
   "environment_variables": {},
   "exception": null,
   "input_path": "__notebook__.ipynb",
   "output_path": "__notebook__.ipynb",
   "parameters": {},
   "start_time": "2021-07-12T20:07:02.775535",
   "version": "2.3.3"
  },
  "interpreter": {
   "hash": "916dbcbb3f70747c44a77c7bcd40155683ae19c65e1c03b4aa3499c5328201f1"
  }
 },
 "nbformat": 4,
 "nbformat_minor": 5
}