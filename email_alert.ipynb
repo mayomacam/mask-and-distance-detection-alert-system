{
 "cells": [
  {
   "cell_type": "code",
   "execution_count": null,
   "source": [
    "message = 'Subject: {}\\n\\n{}'.format(SUBJECT, TEXT)\n",
    "mail = smtplib.SMTP('smtp.gamil.com', 587)\n",
    "mail.ehlo()\n",
    "mail.starttls()\n",
    "mail.login('testingfacemasksys@gmail.com','@testtesttest4269#')\n",
    "mail.sendmail('testingfacemasksys@gmail.com','testingfacemasksys@gmail.com',message)\n",
    "mail.close"
   ],
   "outputs": [],
   "metadata": {}
  }
 ],
 "metadata": {
  "orig_nbformat": 4,
  "language_info": {
   "name": "python"
  }
 },
 "nbformat": 4,
 "nbformat_minor": 2
}